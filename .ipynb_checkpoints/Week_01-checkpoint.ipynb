{
 "cells": [
  {
   "cell_type": "markdown",
   "id": "e046a2fc",
   "metadata": {},
   "source": [
    "## Portfolio Assignment week 01\n",
    "\n",
    "Study the Tutorial tutorial_cluster_scanpy_object and the tutorial_Clustering_Methods\n",
    "\n",
    "Write a brief summary about the following:\n",
    "\n",
    "-\tWhat are common preprocessing steps? Explain for each step why and when you should execute this step and when not.\n",
    "-\tWhat visualization methods are used in the cluster methods tutorial? Explain why the selected method is the most appropriate method for the visualization. Bonus points: do this as well for the scanpy tutorial.\n",
    "-\tWhat performance/evaluation metrics are in the cluster methods tutorial? Explain why the used methods are the most appropriate method for the evaluation.\n",
    "\n",
    "\n",
    "Bonus:\n",
    "You practice the steps yourself with the breast_cancer dataset (clustering_data.csv)"
   ]
  },
  {
   "cell_type": "markdown",
   "id": "31fa3baa",
   "metadata": {},
   "source": [
    "**What are common preprocessing steps? Explain for each step why and when you should execute this step and when not.**\n",
    "\n",
    "The first step in preprocessing is data exploration. This involves analysing the data's structure, content and relationships. In this step you identify the data types (numerical, categorical, data/time or text). This should always be applied to identify any inconsistensies or errors before moving on to any other preprocessing steps. \n",
    "\n",
    "Next, you can apply quality control. This involves removing or correcting any missing or incomplete data. Samples with low expression levels can be filtered out in this step. This step is done to ensure the data is reliable and complete.\n",
    "\n",
    "To make sure the features are in a common range, feature scaling should be applied.This ensures that each feature will contribute equally to the model in later steps. \n",
    "\n",
    "If features are across different scales, normalisation should be applied. This will make sure the features are standardised/ \n",
    "\n",
    "Finally, dimensionality reduction can be applied to reduce the risk of overfitting the model. This step should be skipped if the data is low-dimensional or if removing certain features will result in the loss of information that is needed in the model."
   ]
  },
  {
   "cell_type": "markdown",
   "id": "e7ab6ec0",
   "metadata": {},
   "source": [
    "**What visualization methods are used in the cluster methods tutorial? Explain why the selected method is the most appropriate method for the visualization. Bonus points: do this as well for the scanpy tutorial.**\n",
    "\n",
    "The cluster methods tutorial uses a dendogram produced by agglomerative clustering. It visualises hierarchical structure of clusters in scRNA-seq data and allows for the exploration of subpopulations of cells and their relationships\n",
    "\n",
    "The scanpy object tutorial uses a UMAP (Uniform Manifold Approximation and Projection) plot that visualises the clustering results. This visualisation provides insights into underlying cell populations and potential biomarkers. "
   ]
  },
  {
   "cell_type": "markdown",
   "id": "0e8da732",
   "metadata": {},
   "source": [
    "**What performance/evaluation metrics are in the cluster methods tutorial? Explain why the used methods are the most appropriate method for the evaluation.**\n",
    "\n",
    "The cluster methods tutorial uses the ROC-AUC score as performance metric. \n",
    "\n",
    "The StratifiedShuffleSplit method splits the data into training and testing sets and estimates the models performance. The Random Forest Classifier method that combines multiple decision trees to improve the accuracy and reduce overfitting This returns a ROC-AUC score  metric (the higher the ROC-AUC, the better the model).  "
   ]
  }
 ],
 "metadata": {
  "kernelspec": {
   "display_name": "Python 3 (ipykernel)",
   "language": "python",
   "name": "python3"
  },
  "language_info": {
   "codemirror_mode": {
    "name": "ipython",
    "version": 3
   },
   "file_extension": ".py",
   "mimetype": "text/x-python",
   "name": "python",
   "nbconvert_exporter": "python",
   "pygments_lexer": "ipython3",
   "version": "3.9.13"
  }
 },
 "nbformat": 4,
 "nbformat_minor": 5
}
